{
 "cells": [
  {
   "cell_type": "code",
   "execution_count": 1,
   "id": "1210f8a8",
   "metadata": {},
   "outputs": [],
   "source": [
    "from selenium import webdriver\n",
    "from selenium.webdriver.common.by import By\n",
    "driver = webdriver.Chrome()\n",
    "\n",
    "link = \"https://pbdatatrader.com.br/jogosdodia\""
   ]
  },
  {
   "cell_type": "code",
   "execution_count": 2,
   "id": "45d1e71a",
   "metadata": {},
   "outputs": [],
   "source": [
    "import time\n",
    "driver.get(link)\n",
    "time.sleep(10)"
   ]
  },
  {
   "cell_type": "code",
   "execution_count": 4,
   "id": "9666ae16",
   "metadata": {},
   "outputs": [
    {
     "name": "stdout",
     "output_type": "stream",
     "text": [
      "1,33\n"
     ]
    }
   ],
   "source": [
    "#entering in the first iframe\n",
    "iframe=driver.find_element(By.TAG_NAME,'iframe')\n",
    "driver.switch_to.frame(iframe)\n",
    "\n",
    "#entering in the second iframe\n",
    "iframe=driver.find_element(By.TAG_NAME,'iframe')\n",
    "driver.switch_to.frame(iframe)\n",
    "\n",
    "\n",
    "text1 = driver.find_element(By.XPATH,'//*[@id=\"pvExplorationHost\"]/div/div/exploration/div/explore-canvas/div/div[2]/div/div[2]/div[2]/visual-container-repeat/visual-container[19]/transform/div/div[3]/div/div/visual-modern/div/div/div[2]/div[1]/div[2]/div/div[1]/div/div/div[8]').text\n",
    "print(text1)"
   ]
  },
  {
   "cell_type": "code",
   "execution_count": null,
   "id": "e231c04c",
   "metadata": {},
   "outputs": [],
   "source": []
  }
 ],
 "metadata": {
  "kernelspec": {
   "display_name": "Python 3 (ipykernel)",
   "language": "python",
   "name": "python3"
  },
  "language_info": {
   "codemirror_mode": {
    "name": "ipython",
    "version": 3
   },
   "file_extension": ".py",
   "mimetype": "text/x-python",
   "name": "python",
   "nbconvert_exporter": "python",
   "pygments_lexer": "ipython3",
   "version": "3.9.18"
  }
 },
 "nbformat": 4,
 "nbformat_minor": 5
}
